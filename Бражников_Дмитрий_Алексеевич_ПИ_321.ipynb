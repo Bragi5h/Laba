{
  "nbformat": 4,
  "nbformat_minor": 0,
  "metadata": {
    "colab": {
      "name": "Бражников Дмитрий Алексеевич ПИ-321.ipynb",
      "provenance": [],
      "collapsed_sections": []
    },
    "kernelspec": {
      "name": "python3",
      "display_name": "Python 3"
    },
    "language_info": {
      "name": "python"
    }
  },
  "cells": [
    {
      "cell_type": "markdown",
      "source": [
        "# Первая программа на супер компьютере"
      ],
      "metadata": {
        "id": "hQ8rocszxId-"
      }
    },
    {
      "cell_type": "code",
      "execution_count": null,
      "metadata": {
        "id": "yrW1glplwnh4",
        "colab": {
          "base_uri": "https://localhost:8080/"
        },
        "outputId": "414dfa27-97ea-4994-f59f-fbd7ea92183d"
      },
      "outputs": [
        {
          "output_type": "stream",
          "name": "stdout",
          "text": [
            "Hello, World!\n"
          ]
        }
      ],
      "source": [
        "print(\"Hello, World!\")"
      ]
    },
    {
      "cell_type": "markdown",
      "source": [
        "Выполнил: Бражников Дмитрий Алексеевич"
      ],
      "metadata": {
        "id": "0WwFpQTMxgLR"
      }
    }
  ]
}